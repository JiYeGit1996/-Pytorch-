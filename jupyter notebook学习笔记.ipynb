{
 "cells": [
  {
   "cell_type": "markdown",
   "metadata": {},
   "source": [
    "# 快捷键"
   ]
  },
  {
   "cell_type": "markdown",
   "metadata": {},
   "source": [
    "按m切换成markdown模式"
   ]
  },
  {
   "cell_type": "markdown",
   "metadata": {},
   "source": [
    "按y变成代码单元格"
   ]
  },
  {
   "cell_type": "markdown",
   "metadata": {},
   "source": [
    "shift+enter运行当前代码块，并跳到下一个代码块"
   ]
  },
  {
   "cell_type": "markdown",
   "metadata": {},
   "source": [
    "alt+enter运行当前代码块，并新建一个下方代码块"
   ]
  },
  {
   "cell_type": "markdown",
   "metadata": {},
   "source": [
    "ctrl+enter只运行当前代码块"
   ]
  },
  {
   "cell_type": "markdown",
   "metadata": {},
   "source": [
    "命令模式：a上方创建，b下方创建，d删除，x剪切，c复制，shift+v粘贴到上方，v粘贴到当前，L代码标行数，Z撤销，DD删除"
   ]
  },
  {
   "cell_type": "markdown",
   "metadata": {},
   "source": [
    "万能：h打开help"
   ]
  }
 ],
 "metadata": {
  "kernelspec": {
   "display_name": "Python [conda env:.conda-torch]",
   "language": "python",
   "name": "conda-env-.conda-torch-py"
  },
  "language_info": {
   "codemirror_mode": {
    "name": "ipython",
    "version": 3
   },
   "file_extension": ".py",
   "mimetype": "text/x-python",
   "name": "python",
   "nbconvert_exporter": "python",
   "pygments_lexer": "ipython3",
   "version": "3.6.10"
  }
 },
 "nbformat": 4,
 "nbformat_minor": 2
}
